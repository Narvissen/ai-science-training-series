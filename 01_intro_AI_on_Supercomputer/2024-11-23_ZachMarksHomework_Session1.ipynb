{
 "cells": [
  {
   "cell_type": "markdown",
   "id": "06cd555b-c917-438d-85e3-b0bcb724d773",
   "metadata": {},
   "source": [
    "\r\n",
    "# Homework 1\r\n",
    "## ALCF AI for Science on Supercomputers\r\n",
    "### Zachary Marks\r\n",
    "\r\n",
    "Given code:"
   ]
  },
  {
   "cell_type": "code",
   "execution_count": 1,
   "id": "73351613-7664-40e2-a587-bbef8333a2d9",
   "metadata": {},
   "outputs": [],
   "source": [
    "# Imports\n",
    "import matplotlib.pyplot as plt\n",
    "import numpy as np\n",
    "import pandas as pd\n",
    "import IPython.display as ipydis\n",
    "import time\n",
    "import requests\n",
    "import os"
   ]
  },
  {
   "cell_type": "code",
   "execution_count": null,
   "id": "70c39939-8127-4913-86cd-c8f5239cba8b",
   "metadata": {},
   "outputs": [],
   "source": []
  }
 ],
 "metadata": {
  "kernelspec": {
   "display_name": "Python 3 (ipykernel)",
   "language": "python",
   "name": "python3"
  },
  "language_info": {
   "codemirror_mode": {
    "name": "ipython",
    "version": 3
   },
   "file_extension": ".py",
   "mimetype": "text/x-python",
   "name": "python",
   "nbconvert_exporter": "python",
   "pygments_lexer": "ipython3",
   "version": "3.9.19"
  }
 },
 "nbformat": 4,
 "nbformat_minor": 5
}
